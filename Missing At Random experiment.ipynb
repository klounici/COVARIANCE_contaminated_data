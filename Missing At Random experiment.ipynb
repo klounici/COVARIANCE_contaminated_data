{
 "cells": [
  {
   "cell_type": "code",
   "execution_count": 1,
   "id": "472cbaff",
   "metadata": {},
   "outputs": [],
   "source": [
    "import torch\n",
    "import torchvision\n",
    "import torch.nn as nn\n",
    "import numpy as np\n",
    "import scipy.stats\n",
    "import scipy.io\n",
    "import scipy.sparse\n",
    "from scipy.io import loadmat\n",
    "import pandas as pd\n",
    "import matplotlib.pyplot as plt\n",
    "import torch.distributions as td\n",
    "\n",
    "import seaborn as sns\n",
    "import datetime as dt\n",
    "from tqdm import tqdm\n",
    "\n",
    "from time import time\n",
    "from hyperimpute.plugins.imputers import Imputers\n",
    "\n",
    "tex_fonts = {\n",
    "    # Use LaTeX to write all text\n",
    "    \"text.usetex\": True,\n",
    "    \"font.family\": \"serif\",\n",
    "    # Use 10pt font in plots, to match 10pt font in document\n",
    "    \"axes.labelsize\": 10,\n",
    "    \"font.size\": 10,\n",
    "    # Make the legend/label fonts a little smaller\n",
    "    \"legend.fontsize\": 8,\n",
    "    \"xtick.labelsize\": 8,\n",
    "    \"ytick.labelsize\": 8\n",
    "}\n",
    "plt.rcParams.update(tex_fonts)\n",
    "\n",
    "from torch import nn, optim\n",
    "from torch.nn import functional as F\n",
    "from torchvision import datasets, transforms\n",
    "from torchvision.utils import save_image\n",
    "\n",
    "from sklearn.ensemble import ExtraTreesRegressor\n",
    "from sklearn.experimental import enable_iterative_imputer\n",
    "from sklearn.linear_model import BayesianRidge\n",
    "from sklearn.impute import IterativeImputer, KNNImputer\n",
    "from sklearn.impute import SimpleImputer\n",
    "\n",
    "from source.auxiliary_functions import remove_outliers_DDC, apply_estimator, contaminate_bernoulli, low_rank\n",
    "\n",
    "def estimate_cov_MAR(X, mask):\n",
    "    sigma = np.cov(X.T)\n",
    "    deltas = np.sum(mask, axis=0)/mask.shape[0]\n",
    "    cor_mat = 1/np.outer(deltas, deltas)\n",
    "    cor_2 = np.eye(deltas.shape[0]) * 1/deltas\n",
    "    sigma_tilde = (cor_2 - cor_mat) * np.eye(sigma.shape[0]) * sigma.diagonal() + cor_mat * sigma\n",
    "    return sigma_tilde\n",
    "\n",
    "\n",
    "def contaminate_MAR(X, deltas, intensity=0):\n",
    "    Y = np.zeros(X.shape)\n",
    "    mask = np.zeros(X.shape)\n",
    "    for i,delta in enumerate(deltas):\n",
    "        bernoulli_mask = np.random.binomial(p=delta, n=1, size=X.shape[0])\n",
    "        mask[:,i] = bernoulli_mask\n",
    "    conta = mask*X + (1-mask)*intensity\n",
    "    return mask*X, mask"
   ]
  },
  {
   "cell_type": "markdown",
   "id": "4c351764",
   "metadata": {},
   "source": [
    "# Contaminated cell-wise at random"
   ]
  },
  {
   "cell_type": "code",
   "execution_count": 4,
   "id": "504d1985",
   "metadata": {},
   "outputs": [],
   "source": [
    "def sigmoid(x):\n",
    "    return 1/(1+np.exp(-x))\n",
    "\n",
    "def rel_dist(A,B):\n",
    "    if A is None or B is None:\n",
    "        return None\n",
    "    norm = max(np.linalg.norm(A, ord=2), np.linalg.norm(B, ord=2))\n",
    "    return np.linalg.norm(A-B, ord=2)/norm\n",
    "\n",
    "def test_estimators_missing(data, nrep):\n",
    "    print(\"dim : \", data.shape[1])\n",
    "    print(\"nsamples : \", data.shape[0])\n",
    "    truth = np.cov(data.T)\n",
    "    \n",
    "    np.random.seed(39)\n",
    "    #deltas = np.random.uniform(0.6, 1., size=data.shape[1])\n",
    "    deltas = 1 - sigmoid(np.sum(data[:15,:], axis=0)/15)\n",
    "    \n",
    "    C = {}\n",
    "    \n",
    "    C['classical'] = np.zeros((nrep, data.shape[1], data.shape[1]))\n",
    "    C['MV'] = np.zeros((nrep, data.shape[1], data.shape[1]))\n",
    "    C['II'] = np.zeros((nrep, data.shape[1], data.shape[1]))\n",
    "    C['KNN'] = np.zeros((nrep, data.shape[1], data.shape[1]))\n",
    "    C['MIWAE'] = np.zeros((nrep, data.shape[1], data.shape[1]))\n",
    "    C['GAIN'] = np.zeros((nrep, data.shape[1], data.shape[1]))\n",
    "\n",
    "    for k in tqdm(range(nrep)):\n",
    "        np.random.seed(k)\n",
    "        \n",
    "        conta_data, mask = contaminate_MAR(data, deltas)\n",
    "        \n",
    "        data_nan = conta_data*mask\n",
    "        data_nan[data_nan == 0] = np.nan\n",
    "        \n",
    "        C['classical'][k] = np.cov(conta_data.T)\n",
    "        \n",
    "        # DDC 99\n",
    "        C['MV'][k] = estimate_cov_MAR(conta_data, mask)\n",
    "            \n",
    "        # GAIN\n",
    "        gain = Imputers().get('gain')\n",
    "        x_gain = gain.fit_transform(data_nan)\n",
    "        C['GAIN'][k] = np.cov(x_gain.T)\n",
    "        \n",
    "        #MIWAE\n",
    "        miwae = Imputers().get('miwae')\n",
    "        x_miwae = miwae.fit_transform(data_nan)\n",
    "        C['MIWAE'][k] = np.cov(x_miwae.T)\n",
    "\n",
    "        #3. multiple imputation (inspired by MICE)\n",
    "        imputer = IterativeImputer(max_iter=10, random_state=0)\n",
    "        MI_data = imputer.fit_transform(data_nan)\n",
    "        C['II'] = np.cov(MI_data.T)\n",
    "\n",
    "        #4. knnimpute\n",
    "        imputer = KNNImputer(n_neighbors=5, weights=\"uniform\")\n",
    "        knn_data = imputer.fit_transform(data_nan)  \n",
    "        C['KNN'] = np.cov(knn_data.T)\n",
    "\n",
    "    cols = ['classical','MV', 'II', 'KNN', 'MIWAE','GAIN']\n",
    "    index = ['Truth','classical','MV', 'II', 'KNN', 'MIWAE']\n",
    "    results = pd.DataFrame('-', columns=cols,\n",
    "                                index=index)\n",
    "    stds = pd.DataFrame('-', columns=cols,\n",
    "                                index=index)   \n",
    "    \n",
    "    for c in cols:\n",
    "        results.loc['Truth',c] = np.mean([rel_dist(truth, C[c][k]) for k in range(nrep)])*100\n",
    "        stds.loc['Truth',c] = np.std([rel_dist(truth, C[c][k]) for k in range(nrep)])*100\n",
    "\n",
    "    for i,c1 in enumerate(cols[:-1]):\n",
    "        for c2 in cols[i+1:]:\n",
    "            results.loc[c1, c2] = np.mean([rel_dist(C[c1][k], C[c2][k]) for k in range(nrep)])*100\n",
    "            stds.loc[c1, c2] = np.std([rel_dist(C[c1][k], C[c2][k]) for k in range(nrep)])*100\n",
    "\n",
    "    return results, stds"
   ]
  },
  {
   "cell_type": "code",
   "execution_count": 5,
   "id": "3d596c5f",
   "metadata": {},
   "outputs": [
    {
     "name": "stdout",
     "output_type": "stream",
     "text": [
      "dim :  7\n",
      "nsamples :  4173\n",
      "[0.59246331 0.58889257 0.60970577 0.61786702 0.64564068 0.63500372\n",
      " 0.57420827]\n"
     ]
    },
    {
     "name": "stderr",
     "output_type": "stream",
     "text": [
      "  0%|                                                                                                                                                                                 | 0/5 [00:00<?, ?it/s]/Users/gregoirepacreau/.local/lib/python3.9/site-packages/sklearn/impute/_iterative.py:796: ConvergenceWarning: [IterativeImputer] Early stopping criterion not reached.\n",
      "  warnings.warn(\n",
      " 20%|█████████████████████████████████▊                                                                                                                                       | 1/5 [01:08<04:32, 68.23s/it]/Users/gregoirepacreau/.local/lib/python3.9/site-packages/sklearn/impute/_iterative.py:796: ConvergenceWarning: [IterativeImputer] Early stopping criterion not reached.\n",
      "  warnings.warn(\n",
      " 40%|███████████████████████████████████████████████████████████████████▌                                                                                                     | 2/5 [02:16<03:24, 68.17s/it]/Users/gregoirepacreau/.local/lib/python3.9/site-packages/sklearn/impute/_iterative.py:796: ConvergenceWarning: [IterativeImputer] Early stopping criterion not reached.\n",
      "  warnings.warn(\n",
      " 60%|█████████████████████████████████████████████████████████████████████████████████████████████████████▍                                                                   | 3/5 [03:25<02:17, 68.82s/it]/Users/gregoirepacreau/.local/lib/python3.9/site-packages/sklearn/impute/_iterative.py:796: ConvergenceWarning: [IterativeImputer] Early stopping criterion not reached.\n",
      "  warnings.warn(\n",
      " 80%|███████████████████████████████████████████████████████████████████████████████████████████████████████████████████████████████████████▏                                 | 4/5 [04:37<01:09, 69.92s/it]/Users/gregoirepacreau/.local/lib/python3.9/site-packages/sklearn/impute/_iterative.py:796: ConvergenceWarning: [IterativeImputer] Early stopping criterion not reached.\n",
      "  warnings.warn(\n",
      "100%|█████████████████████████████████████████████████████████████████████████████████████████████████████████████████████████████████████████████████████████████████████████| 5/5 [05:49<00:00, 69.97s/it]\n"
     ]
    },
    {
     "data": {
      "text/plain": [
       "(           classical         MV          II         KNN      MIWAE       GAIN\n",
       " Truth      59.326807   1.870525    4.280006    4.547378   8.602209  16.537331\n",
       " classical          -  59.299447  138.070906  136.802583  55.623436  51.325908\n",
       " MV                 -          -    4.809351    5.061317   8.684462  16.577879\n",
       " II                 -          -           -    1.329209   6.948025  16.444822\n",
       " KNN                -          -           -           -   6.424047  15.766778\n",
       " MIWAE              -          -           -           -          -   9.445398,\n",
       "           classical        MV        II       KNN     MIWAE      GAIN\n",
       " Truth      0.584246  0.572091  1.445084  1.310665  0.625796  2.093862\n",
       " classical         -  0.264014  3.337113  3.973836  0.377929  1.333995\n",
       " MV                -         -  1.655874  1.563614  0.821969  2.286093\n",
       " II                -         -         -  0.172358  0.781207  2.605383\n",
       " KNN               -         -         -         -  1.066904   3.33805\n",
       " MIWAE             -         -         -         -         -  1.574487)"
      ]
     },
     "execution_count": 5,
     "metadata": {},
     "output_type": "execute_result"
    }
   ],
   "source": [
    "from source.real_experiment import clean_abalone\n",
    "\n",
    "data = pd.read_csv('datasets/abalone.data', sep=',', header=None)\n",
    "data, _ = clean_abalone()\n",
    "\n",
    "test_estimators_missing(data, 5)"
   ]
  },
  {
   "cell_type": "code",
   "execution_count": 6,
   "id": "4287c242",
   "metadata": {},
   "outputs": [
    {
     "name": "stdout",
     "output_type": "stream",
     "text": [
      "dim :  30\n",
      "nsamples :  569\n",
      "[0.36840377 0.46269955 0.3542269  0.38172801 0.30758036 0.21709856\n",
      " 0.28135382 0.27643322 0.29035039 0.27979016 0.38286465 0.50789481\n",
      " 0.35400085 0.3969512  0.5255049  0.29998938 0.40385511 0.31752147\n",
      " 0.39284664 0.32315373 0.34704685 0.42986816 0.33650191 0.36653389\n",
      " 0.3086377  0.19428268 0.27274002 0.2400313  0.21947384 0.17401771]\n"
     ]
    },
    {
     "name": "stderr",
     "output_type": "stream",
     "text": [
      "  0%|                                                                                                                                                                                 | 0/5 [00:00<?, ?it/s]/Users/gregoirepacreau/.local/lib/python3.9/site-packages/sklearn/impute/_iterative.py:796: ConvergenceWarning: [IterativeImputer] Early stopping criterion not reached.\n",
      "  warnings.warn(\n",
      " 20%|█████████████████████████████████▊                                                                                                                                       | 1/5 [00:24<01:38, 24.55s/it]/Users/gregoirepacreau/.local/lib/python3.9/site-packages/sklearn/impute/_iterative.py:796: ConvergenceWarning: [IterativeImputer] Early stopping criterion not reached.\n",
      "  warnings.warn(\n",
      " 40%|███████████████████████████████████████████████████████████████████▌                                                                                                     | 2/5 [00:49<01:13, 24.66s/it]/Users/gregoirepacreau/.local/lib/python3.9/site-packages/sklearn/impute/_iterative.py:796: ConvergenceWarning: [IterativeImputer] Early stopping criterion not reached.\n",
      "  warnings.warn(\n",
      "100%|█████████████████████████████████████████████████████████████████████████████████████████████████████████████████████████████████████████████████████████████████████████| 5/5 [02:03<00:00, 24.78s/it]\n"
     ]
    },
    {
     "data": {
      "text/plain": [
       "(           classical        MV          II         KNN       MIWAE       GAIN\n",
       " Truth      88.629152  21.74112   69.786231   61.972473   87.959387   37.45866\n",
       " classical          -  88.38854  462.371178  339.230948   12.823254  83.663582\n",
       " MV                 -         -   71.627347   64.454023   87.651948  40.278171\n",
       " II                 -         -           -   43.475742   451.84346  86.961383\n",
       " KNN                -         -           -           -  312.843322  62.250764\n",
       " MIWAE              -         -           -           -           -  82.645671,\n",
       "           classical        MV         II        KNN      MIWAE       GAIN\n",
       " Truth       0.46263  3.000551    2.53098  10.039639   0.430076    5.77819\n",
       " classical         -  0.334218  46.164052   95.07513   0.932186   1.464802\n",
       " MV                -         -   2.588496   9.289193    0.36079   3.301311\n",
       " II                -         -          -   3.621349  55.737244  17.633547\n",
       " KNN               -         -          -          -  84.111752    5.02559\n",
       " MIWAE             -         -          -          -          -   1.517604)"
      ]
     },
     "execution_count": 6,
     "metadata": {},
     "output_type": "execute_result"
    }
   ],
   "source": [
    "from source.real_experiment import clean_breast_cancer\n",
    "\n",
    "data, _ = clean_breast_cancer()\n",
    "\n",
    "test_estimators_missing(data, 5)"
   ]
  },
  {
   "cell_type": "code",
   "execution_count": null,
   "id": "005ccd35",
   "metadata": {},
   "outputs": [],
   "source": []
  },
  {
   "cell_type": "code",
   "execution_count": null,
   "id": "cbe2112b",
   "metadata": {},
   "outputs": [],
   "source": []
  }
 ],
 "metadata": {
  "kernelspec": {
   "display_name": "Python 3 (ipykernel)",
   "language": "python",
   "name": "python3"
  },
  "language_info": {
   "codemirror_mode": {
    "name": "ipython",
    "version": 3
   },
   "file_extension": ".py",
   "mimetype": "text/x-python",
   "name": "python",
   "nbconvert_exporter": "python",
   "pygments_lexer": "ipython3",
   "version": "3.9.13"
  }
 },
 "nbformat": 4,
 "nbformat_minor": 5
}

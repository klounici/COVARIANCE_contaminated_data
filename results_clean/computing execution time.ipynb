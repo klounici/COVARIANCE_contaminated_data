{
 "cells": [
  {
   "cell_type": "code",
   "execution_count": 1,
   "id": "81d080f1",
   "metadata": {},
   "outputs": [],
   "source": [
    "import pandas\n",
    "import pickle\n",
    "import numpy as np"
   ]
  },
  {
   "cell_type": "code",
   "execution_count": 2,
   "id": "991479a5",
   "metadata": {},
   "outputs": [
    {
     "name": "stdout",
     "output_type": "stream",
     "text": [
      "0.01 0.0031137943267822267 0.0002457264483143262\n",
      "0.03 0.003377270698547363 0.0003469908656647596\n",
      "0.05 0.003583073616027832 0.00017951580424515053\n",
      "0.07 0.0044658899307250975 0.0014487684808740192\n",
      "0.09 0.0045692682266235355 0.0006012034431846654\n",
      "0.11 0.005687642097473145 0.0012280971791908848\n",
      "0.13 0.006921982765197754 0.0013561894876997764\n",
      "0.16 0.007291960716247559 0.00028448648048743323\n",
      "0.18 0.00750265121459961 0.00026770238985112543\n",
      "0.2 0.007510828971862793 0.0002292450379969962\n",
      "0.22 0.007813477516174316 0.0014247901526239259\n",
      "0.24 0.007784128189086914 0.0009647379354220632\n",
      "0.26 0.007464146614074707 0.0005275182311732013\n",
      "0.28 0.006999397277832031 0.0001028792164568796\n",
      "0.3 0.007233524322509765 0.0010041130359543723\n"
     ]
    }
   ],
   "source": [
    "estimator = 'tailMV'\n",
    "\n",
    "with open('exectime_nsample=150_dim=100_erank=10_nexp=10_cont=bernoulli_meth='+estimator+'_intensity=4.0_cont-type=dirac.pkl', 'rb') as file:\n",
    "    data = pickle.load(file)\n",
    "for k in data[estimator].keys():\n",
    "    print(round(k, 2), np.mean(data[estimator][k]), np.std(data[estimator][k]))"
   ]
  },
  {
   "cell_type": "code",
   "execution_count": 3,
   "id": "4c5f5a5e",
   "metadata": {},
   "outputs": [
    {
     "name": "stdout",
     "output_type": "stream",
     "text": [
      "0.01 0.6912477731704711 0.010677307719571042\n",
      "0.03 0.6776808261871338 0.007264796122814359\n",
      "0.05 0.6774709701538086 0.005835766272346291\n",
      "0.07 0.6755126476287842 0.0073567476605523015\n",
      "0.09 0.6728314638137818 0.0046020379801787045\n",
      "0.11 0.673891019821167 0.005849651435755092\n",
      "0.13 0.6787037372589111 0.005863266840370176\n",
      "0.16 0.6727198839187623 0.00410608728079418\n",
      "0.18 0.6664655447006226 0.0069316696990651076\n",
      "0.2 0.6664611577987671 0.004192296075609391\n",
      "0.22 0.6662176609039306 0.004339945513681066\n",
      "0.24 0.6652793645858764 0.006362843314268365\n",
      "0.26 0.6658030033111573 0.006410959175332481\n",
      "0.28 0.6637928247451782 0.005871072632097241\n",
      "0.3 0.6647413730621338 0.0068732045905946235\n"
     ]
    }
   ],
   "source": [
    "estimator = 'DDCMV90'\n",
    "\n",
    "with open('exectime_nsample=150_dim=100_erank=10_nexp=10_cont=bernoulli_meth='+estimator+'_intensity=4.0_cont-type=dirac.pkl', 'rb') as file:\n",
    "    data = pickle.load(file)\n",
    "for k in data[estimator].keys():\n",
    "    print(round(k, 2), np.mean(data[estimator][k]), np.std(data[estimator][k]))"
   ]
  },
  {
   "cell_type": "code",
   "execution_count": 4,
   "id": "bba8e7dc",
   "metadata": {},
   "outputs": [
    {
     "name": "stdout",
     "output_type": "stream",
     "text": [
      "0.01 69.47828049659729 1.9263974688732435\n",
      "0.03 88.71392586231232 1.1082684747519367\n",
      "0.05 99.0037027835846 0.8703702209370808\n",
      "0.07 105.56176874637603 2.3496090781028007\n",
      "0.09 118.84226250648499 6.164642750871958\n",
      "0.11 140.39935474395753 5.928847544124612\n",
      "0.13 157.30184812545775 2.869370773324655\n",
      "0.16 162.4207937002182 5.699486412676873\n",
      "0.18 176.5006415605545 3.6023452972802703\n",
      "0.2 180.90555906295776 4.681053910819625\n",
      "0.22 186.29638459682465 4.175332257577167\n",
      "0.24 184.67378923892974 5.444629235916517\n",
      "0.26 189.87841444015504 5.427614947516959\n",
      "0.28 181.41124391555786 9.900011239165417\n",
      "0.3 181.34754614830018 11.571007151895632\n"
     ]
    }
   ],
   "source": [
    "estimator = 'TSGS'\n",
    "\n",
    "with open('exectime_nsample=150_dim=100_erank=10_nexp=10_cont=bernoulli_meth='+estimator+'_intensity=4.0_cont-type=dirac.pkl', 'rb') as file:\n",
    "    data = pickle.load(file)\n",
    "\n",
    "for k in data[estimator].keys():\n",
    "    print(round(k, 2), np.mean(data[estimator][k]), np.std(data[estimator][k]))"
   ]
  },
  {
   "cell_type": "code",
   "execution_count": 5,
   "id": "bae2abdf",
   "metadata": {},
   "outputs": [
    {
     "name": "stdout",
     "output_type": "stream",
     "text": [
      "0.01 69.72304155826569 1.4393440997494913\n",
      "0.03 67.28421092033386 1.9978594716029912\n",
      "0.05 67.42467515468597 2.2762680045222687\n",
      "0.07 69.74673545360565 2.2045350965095234\n",
      "0.09 68.88580260276794 1.2626198160509396\n",
      "0.11 70.42389850616455 2.49926161355624\n",
      "0.13 70.58052039146423 2.0005131694757683\n",
      "0.16 69.9565022945404 1.5048563944865463\n",
      "0.18 70.71226768493652 1.8905658816727673\n",
      "0.2 71.81149108409882 2.4581860623571017\n",
      "0.22 71.63519020080567 2.2035720159019645\n",
      "0.24 73.17778100967408 2.7233156867960764\n",
      "0.26 72.20747592449189 2.8888612871399046\n",
      "0.28 74.20413591861725 1.571170288396612\n",
      "0.3 74.02063884735108 3.9411392700290415\n"
     ]
    }
   ],
   "source": [
    "estimator = 'DI'\n",
    "\n",
    "with open('exectime_nsample=150_dim=100_erank=10_nexp=10_cont=bernoulli_meth='+estimator+'_intensity=4.0_cont-type=dirac.pkl', 'rb') as file:\n",
    "    data = pickle.load(file)\n",
    "for k in data[estimator].keys():\n",
    "    print(round(k, 2), np.mean(data[estimator][k]), np.std(data[estimator][k]))"
   ]
  },
  {
   "cell_type": "code",
   "execution_count": null,
   "id": "197e0054",
   "metadata": {},
   "outputs": [],
   "source": []
  }
 ],
 "metadata": {
  "kernelspec": {
   "display_name": "Python 3 (ipykernel)",
   "language": "python",
   "name": "python3"
  },
  "language_info": {
   "codemirror_mode": {
    "name": "ipython",
    "version": 3
   },
   "file_extension": ".py",
   "mimetype": "text/x-python",
   "name": "python",
   "nbconvert_exporter": "python",
   "pygments_lexer": "ipython3",
   "version": "3.9.13"
  }
 },
 "nbformat": 4,
 "nbformat_minor": 5
}

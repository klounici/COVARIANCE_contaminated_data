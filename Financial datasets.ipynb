{
 "cells": [
  {
   "cell_type": "code",
   "execution_count": 1,
   "id": "ac62557d",
   "metadata": {},
   "outputs": [],
   "source": [
    "import numpy as np\n",
    "#import torch\n",
    "import seaborn as sns\n",
    "import matplotlib.pyplot as plt\n",
    "import datetime as dt\n",
    "import pandas as pd\n",
    "from tqdm import tqdm\n",
    "\n",
    "tex_fonts = {\n",
    "    # Use LaTeX to write all text\n",
    "    \"text.usetex\": True,\n",
    "    \"font.family\": \"serif\",\n",
    "    # Use 10pt font in plots, to match 10pt font in document\n",
    "    \"axes.labelsize\": 10,\n",
    "    \"font.size\": 10,\n",
    "    # Make the legend/label fonts a little smaller\n",
    "    \"legend.fontsize\": 8,\n",
    "    \"xtick.labelsize\": 8,\n",
    "    \"ytick.labelsize\": 8\n",
    "}\n",
    "plt.rcParams.update(tex_fonts)\n",
    "\n",
    "import os \n",
    "os.environ['KMP_DUPLICATE_LIB_OK']='True'\n",
    "\n",
    "import seaborn as sns\n",
    "\n",
    "from source.real_experiment import test_estimators, test_estimators_heatmap\n",
    "\n",
    "from source.real_experiment import get_sample_matrix, get_sample_nasdaq, get_data_from_yahoo"
   ]
  },
  {
   "cell_type": "code",
   "execution_count": 2,
   "id": "54ea7bc9",
   "metadata": {
    "scrolled": true
   },
   "outputs": [],
   "source": [
    "get_data_from_yahoo(start=dt.datetime(2021,1,1), end=dt.datetime(2023,1,1), verbose=0, nasdaq=False)\n",
    "get_data_from_yahoo(start=dt.datetime(2021,1,1), end=dt.datetime(2023,1,1), verbose=0, nasdaq=True)"
   ]
  },
  {
   "cell_type": "code",
   "execution_count": 3,
   "id": "a5d42ddc",
   "metadata": {},
   "outputs": [
    {
     "name": "stderr",
     "output_type": "stream",
     "text": [
      "100%|████████████████████████████████████████████████████████████████████████████████████████████████████████████████████████████████████████████████████████████████████| 502/502 [00:01<00:00, 285.22it/s]\n"
     ]
    },
    {
     "name": "stdout",
     "output_type": "stream",
     "text": [
      "dim :  496\n",
      "nsamples :  502\n",
      "erank :  2.7145040573901515\n"
     ]
    },
    {
     "name": "stderr",
     "output_type": "stream",
     "text": [
      "/Users/gregoirepacreau/opt/anaconda3/lib/python3.9/site-packages/sklearn/impute/_iterative.py:699: ConvergenceWarning: [IterativeImputer] Early stopping criterion not reached.\n",
      "  warnings.warn(\n",
      "Erreur dans TSGS(data, filter, partial_inpute, tol, maxiter, method, init) : \n",
      "  Column dimension of 'x' must be in between 2 and 200.\n",
      "Exécution arrêtée\n",
      "Erreur dans eigenvectors %*% cov(Zimp_proj_w) : arguments inadéquats\n",
      "Appels : DI -> initEst -> iDDC9I.O.Wrap.RR -> iDDC9I.O.Wrap\n",
      "De plus : Messages d'avis :\n",
      "1: Dans estLocScale(Zimp_proj) :\n",
      "  9  out of  496  variables have an estimated scale <= \n",
      "\"precScale\" =  1e-12 .\n",
      "2: Dans wrap(Zimp_proj, locscale_proj$loc, locscale_proj$scale) :\n",
      "  9  variable(s) had a scale <= precScale and were left out.\n",
      "\n",
      "                    The indices of the remaining columns are in $colInWrap.\n",
      "Exécution arrêtée\n"
     ]
    },
    {
     "data": {
      "text/html": [
       "<div>\n",
       "<style scoped>\n",
       "    .dataframe tbody tr th:only-of-type {\n",
       "        vertical-align: middle;\n",
       "    }\n",
       "\n",
       "    .dataframe tbody tr th {\n",
       "        vertical-align: top;\n",
       "    }\n",
       "\n",
       "    .dataframe thead th {\n",
       "        text-align: right;\n",
       "    }\n",
       "</style>\n",
       "<table border=\"1\" class=\"dataframe\">\n",
       "  <thead>\n",
       "    <tr style=\"text-align: right;\">\n",
       "      <th></th>\n",
       "      <th>DDC MV 99</th>\n",
       "      <th>DDC MV 95</th>\n",
       "      <th>DDC II 99</th>\n",
       "      <th>DDC KNN 99</th>\n",
       "      <th>TSGS</th>\n",
       "      <th>DI</th>\n",
       "    </tr>\n",
       "  </thead>\n",
       "  <tbody>\n",
       "    <tr>\n",
       "      <th>classical</th>\n",
       "      <td>0.05928</td>\n",
       "      <td>0.060569</td>\n",
       "      <td>0.034388</td>\n",
       "      <td>0.04758</td>\n",
       "      <td>None</td>\n",
       "      <td>None</td>\n",
       "    </tr>\n",
       "    <tr>\n",
       "      <th>DDC MV 99</th>\n",
       "      <td>-</td>\n",
       "      <td>0.022287</td>\n",
       "      <td>0.036163</td>\n",
       "      <td>0.02281</td>\n",
       "      <td>None</td>\n",
       "      <td>None</td>\n",
       "    </tr>\n",
       "    <tr>\n",
       "      <th>DDC MV 95</th>\n",
       "      <td>-</td>\n",
       "      <td>-</td>\n",
       "      <td>0.039791</td>\n",
       "      <td>0.02985</td>\n",
       "      <td>None</td>\n",
       "      <td>None</td>\n",
       "    </tr>\n",
       "    <tr>\n",
       "      <th>DDC II 99</th>\n",
       "      <td>-</td>\n",
       "      <td>-</td>\n",
       "      <td>-</td>\n",
       "      <td>0.018773</td>\n",
       "      <td>None</td>\n",
       "      <td>None</td>\n",
       "    </tr>\n",
       "    <tr>\n",
       "      <th>DDC KNN 99</th>\n",
       "      <td>-</td>\n",
       "      <td>-</td>\n",
       "      <td>-</td>\n",
       "      <td>-</td>\n",
       "      <td>None</td>\n",
       "      <td>None</td>\n",
       "    </tr>\n",
       "    <tr>\n",
       "      <th>TSGS</th>\n",
       "      <td>-</td>\n",
       "      <td>-</td>\n",
       "      <td>-</td>\n",
       "      <td>-</td>\n",
       "      <td>-</td>\n",
       "      <td>None</td>\n",
       "    </tr>\n",
       "  </tbody>\n",
       "</table>\n",
       "</div>"
      ],
      "text/plain": [
       "           DDC MV 99 DDC MV 95 DDC II 99 DDC KNN 99  TSGS    DI\n",
       "classical    0.05928  0.060569  0.034388    0.04758  None  None\n",
       "DDC MV 99          -  0.022287  0.036163    0.02281  None  None\n",
       "DDC MV 95          -         -  0.039791    0.02985  None  None\n",
       "DDC II 99          -         -         -   0.018773  None  None\n",
       "DDC KNN 99         -         -         -          -  None  None\n",
       "TSGS               -         -         -          -     -  None"
      ]
     },
     "execution_count": 3,
     "metadata": {},
     "output_type": "execute_result"
    }
   ],
   "source": [
    "test_estimators(get_sample_matrix)"
   ]
  },
  {
   "cell_type": "code",
   "execution_count": 2,
   "id": "913dc245",
   "metadata": {},
   "outputs": [
    {
     "name": "stderr",
     "output_type": "stream",
     "text": [
      "100%|████████████████████████████████████████████████████████████████████████████████████████████████████████████████████████████████████████████████████████████████████| 502/502 [00:01<00:00, 265.51it/s]\n",
      "/Users/gregoirepacreau/.local/lib/python3.9/site-packages/sklearn/impute/_iterative.py:796: ConvergenceWarning: [IterativeImputer] Early stopping criterion not reached.\n",
      "  warnings.warn(\n",
      "Erreur dans TSGS(data, filter, partial_inpute, tol, maxiter, method, init) : \n",
      "  Column dimension of 'x' must be in between 2 and 200.\n",
      "Exécution arrêtée\n",
      "Erreur dans eigenvectors %*% cov(Zimp_proj_w) : arguments inadéquats\n",
      "Appels : DI -> initEst -> iDDC9I.O.Wrap.RR -> iDDC9I.O.Wrap\n",
      "De plus : Messages d'avis :\n",
      "1: Dans estLocScale(Zimp_proj) :\n",
      "  9  out of  496  variables have an estimated scale <= \n",
      "\"precScale\" =  1e-12 .\n",
      "2: Dans wrap(Zimp_proj, locscale_proj$loc, locscale_proj$scale) :\n",
      "  9  variable(s) had a scale <= precScale and were left out.\n",
      "\n",
      "                    The indices of the remaining columns are in $colInWrap.\n",
      "Exécution arrêtée\n"
     ]
    },
    {
     "data": {
      "image/png": "[encoded data removed]",
      "text/plain": [
       "<Figure size 640x480 with 2 Axes>"
      ]
     },
     "metadata": {},
     "output_type": "display_data"
    }
   ],
   "source": [
    "sns.heatmap(test_estimators_heatmap(get_sample_matrix)*100, annot=True)\n",
    "plt.savefig('heatmap_sp500_V2.pdf', format='pdf', bbox_inches='tight')\n",
    "plt.show()"
   ]
  },
  {
   "cell_type": "code",
   "execution_count": 5,
   "id": "26d89762",
   "metadata": {},
   "outputs": [
    {
     "name": "stderr",
     "output_type": "stream",
     "text": [
      "100%|███████████████████████████████████████████████████████████████████████████████████████████████████████████████████████████████████████████████████████████████████| 2967/2967 [00:44<00:00, 66.43it/s]\n"
     ]
    },
    {
     "name": "stdout",
     "output_type": "stream",
     "text": [
      "[[ 0.02842649 -0.11191569  0.57718102 ...  1.50693846  0.78145653\n",
      "  -1.43481681]\n",
      " [ 0.59129868  1.97599341  2.82998853 ...  0.77951761  0.47404451\n",
      "   2.0972394 ]\n",
      " [ 0.7785713  -1.11166223  1.5500341  ...  0.5415865   0.\n",
      "   2.32103191]\n",
      " ...\n",
      " [-0.61087355 -1.60792847 -1.30233302 ... -0.80577312 -0.2074326\n",
      "   0.42661774]\n",
      " [ 0.56586614  1.42624088  0.42863178 ...  0.57379529  0.51214506\n",
      "   0.81552345]\n",
      " [ 0.18369314  0.84445844 -0.45925097 ...  0.25742882 -0.26020616\n",
      "  -0.20615886]]\n"
     ]
    }
   ],
   "source": [
    "res, _ = get_sample_nasdaq()"
   ]
  },
  {
   "cell_type": "code",
   "execution_count": 7,
   "id": "c78ac1d1",
   "metadata": {},
   "outputs": [
    {
     "ename": "ValueError",
     "evalue": "cannot convert float NaN to integer",
     "output_type": "error",
     "traceback": [
      "\u001b[0;31m---------------------------------------------------------------------------\u001b[0m",
      "\u001b[0;31mValueError\u001b[0m                                Traceback (most recent call last)",
      "\u001b[0;32m/var/folders/m2/86ygsxzd7m79qj2clmkdp7840000gn/T/ipykernel_54815/1848550455.py\u001b[0m in \u001b[0;36m<module>\u001b[0;34m\u001b[0m\n\u001b[1;32m      1\u001b[0m \u001b[0;32mfrom\u001b[0m \u001b[0mcellHandler\u001b[0m \u001b[0;32mimport\u001b[0m \u001b[0;34m*\u001b[0m\u001b[0;34m\u001b[0m\u001b[0;34m\u001b[0m\u001b[0m\n\u001b[0;32m----> 2\u001b[0;31m \u001b[0mDDC\u001b[0m\u001b[0;34m(\u001b[0m\u001b[0mres\u001b[0m\u001b[0;34m,\u001b[0m \u001b[0;36m0.99\u001b[0m\u001b[0;34m)\u001b[0m\u001b[0;34m.\u001b[0m\u001b[0mastype\u001b[0m\u001b[0;34m(\u001b[0m\u001b[0mint\u001b[0m\u001b[0;34m)\u001b[0m\u001b[0;34m\u001b[0m\u001b[0;34m\u001b[0m\u001b[0m\n\u001b[0m",
      "\u001b[0;31mValueError\u001b[0m: cannot convert float NaN to integer"
     ]
    }
   ],
   "source": [
    "from cellHandler import *\n",
    "DDC(res, 0.99).astype(int)"
   ]
  },
  {
   "cell_type": "code",
   "execution_count": 2,
   "id": "c896d01d",
   "metadata": {},
   "outputs": [
    {
     "name": "stderr",
     "output_type": "stream",
     "text": [
      "100%|███████████████████████████████████████████████████████████████████████████████████████████████████████████████████████████████████████████████████████████████████| 2967/2967 [00:46<00:00, 64.06it/s]\n"
     ]
    },
    {
     "name": "stdout",
     "output_type": "stream",
     "text": [
      "dim :  1442\n",
      "nsamples :  502\n",
      "erank :  4.0057795524871604\n",
      "99\n",
      "95\n",
      "knn\n"
     ]
    },
    {
     "name": "stderr",
     "output_type": "stream",
     "text": [
      "Erreur dans TSGS(data, filter, partial_inpute, tol, maxiter, method, init) : \n",
      "  Column dimension of 'x' must be in between 2 and 200.\n",
      "Exécution arrêtée\n",
      "Erreur dans eigenvectors %*% cov(Zimp_proj_w) : arguments inadéquats\n",
      "Appels : DI -> initEst -> iDDC9I.O.Wrap.RR -> iDDC9I.O.Wrap\n",
      "De plus : Messages d'avis :\n",
      "1: Dans estLocScale(Zimp_proj) :\n",
      "  958  out of  1442  variables have an estimated scale <= \n",
      "\"precScale\" =  1e-12 .\n",
      "2: Dans wrap(Zimp_proj, locscale_proj$loc, locscale_proj$scale) :\n",
      "  958  variable(s) had a scale <= precScale and were left out.\n",
      "\n",
      "                    The indices of the remaining columns are in $colInWrap.\n",
      "Exécution arrêtée\n"
     ]
    },
    {
     "data": {
      "text/html": [
       "<div>\n",
       "<style scoped>\n",
       "    .dataframe tbody tr th:only-of-type {\n",
       "        vertical-align: middle;\n",
       "    }\n",
       "\n",
       "    .dataframe tbody tr th {\n",
       "        vertical-align: top;\n",
       "    }\n",
       "\n",
       "    .dataframe thead th {\n",
       "        text-align: right;\n",
       "    }\n",
       "</style>\n",
       "<table border=\"1\" class=\"dataframe\">\n",
       "  <thead>\n",
       "    <tr style=\"text-align: right;\">\n",
       "      <th></th>\n",
       "      <th>DDC MV 99</th>\n",
       "      <th>DDC MV 95</th>\n",
       "      <th>DDC II 99</th>\n",
       "      <th>DDC KNN 99</th>\n",
       "      <th>TSGS</th>\n",
       "      <th>DI</th>\n",
       "    </tr>\n",
       "  </thead>\n",
       "  <tbody>\n",
       "    <tr>\n",
       "      <th>classical</th>\n",
       "      <td>0.091814</td>\n",
       "      <td>0.106264</td>\n",
       "      <td>None</td>\n",
       "      <td>0.080639</td>\n",
       "      <td>None</td>\n",
       "      <td>None</td>\n",
       "    </tr>\n",
       "    <tr>\n",
       "      <th>DDC MV 99</th>\n",
       "      <td>-</td>\n",
       "      <td>0.03262</td>\n",
       "      <td>None</td>\n",
       "      <td>0.032053</td>\n",
       "      <td>None</td>\n",
       "      <td>None</td>\n",
       "    </tr>\n",
       "    <tr>\n",
       "      <th>DDC MV 95</th>\n",
       "      <td>-</td>\n",
       "      <td>-</td>\n",
       "      <td>None</td>\n",
       "      <td>0.051678</td>\n",
       "      <td>None</td>\n",
       "      <td>None</td>\n",
       "    </tr>\n",
       "    <tr>\n",
       "      <th>DDC II 99</th>\n",
       "      <td>-</td>\n",
       "      <td>-</td>\n",
       "      <td>-</td>\n",
       "      <td>None</td>\n",
       "      <td>None</td>\n",
       "      <td>None</td>\n",
       "    </tr>\n",
       "    <tr>\n",
       "      <th>DDC KNN 99</th>\n",
       "      <td>-</td>\n",
       "      <td>-</td>\n",
       "      <td>-</td>\n",
       "      <td>-</td>\n",
       "      <td>None</td>\n",
       "      <td>None</td>\n",
       "    </tr>\n",
       "    <tr>\n",
       "      <th>TSGS</th>\n",
       "      <td>-</td>\n",
       "      <td>-</td>\n",
       "      <td>-</td>\n",
       "      <td>-</td>\n",
       "      <td>-</td>\n",
       "      <td>None</td>\n",
       "    </tr>\n",
       "  </tbody>\n",
       "</table>\n",
       "</div>"
      ],
      "text/plain": [
       "           DDC MV 99 DDC MV 95 DDC II 99 DDC KNN 99  TSGS    DI\n",
       "classical   0.091814  0.106264      None   0.080639  None  None\n",
       "DDC MV 99          -   0.03262      None   0.032053  None  None\n",
       "DDC MV 95          -         -      None   0.051678  None  None\n",
       "DDC II 99          -         -         -       None  None  None\n",
       "DDC KNN 99         -         -         -          -  None  None\n",
       "TSGS               -         -         -          -     -  None"
      ]
     },
     "execution_count": 2,
     "metadata": {},
     "output_type": "execute_result"
    }
   ],
   "source": [
    "test_estimators(get_sample_nasdaq)"
   ]
  },
  {
   "cell_type": "code",
   "execution_count": null,
   "id": "7048fa07",
   "metadata": {},
   "outputs": [
    {
     "name": "stderr",
     "output_type": "stream",
     "text": [
      "100%|███████████████████████████████████████████████████████████████████████████████████████████████████████████████████████████████████████████████████████████████████| 2967/2967 [00:53<00:00, 55.64it/s]\n"
     ]
    }
   ],
   "source": [
    "sns.heatmap(test_estimators_heatmap(get_sample_nasdaq)*100, annot=True)\n",
    "plt.savefig('heatmap_nasdaq_V2.pdf', format='pdf', bbox_inches='tight')\n",
    "plt.show()"
   ]
  },
  {
   "cell_type": "code",
   "execution_count": null,
   "id": "faf6b025",
   "metadata": {},
   "outputs": [],
   "source": []
  }
 ],
 "metadata": {
  "kernelspec": {
   "display_name": "Python 3 (ipykernel)",
   "language": "python",
   "name": "python3"
  },
  "language_info": {
   "codemirror_mode": {
    "name": "ipython",
    "version": 3
   },
   "file_extension": ".py",
   "mimetype": "text/x-python",
   "name": "python",
   "nbconvert_exporter": "python",
   "pygments_lexer": "ipython3",
   "version": "3.9.13"
  }
 },
 "nbformat": 4,
 "nbformat_minor": 5
}
